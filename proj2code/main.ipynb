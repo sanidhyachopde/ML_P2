{
 "cells": [
  {
   "cell_type": "code",
   "execution_count": 77,
   "metadata": {},
   "outputs": [],
   "source": [
    "from __future__ import absolute_import, division, print_function, unicode_literals\n",
    "import mnist_reader\n",
    "import numpy as np\n",
    "from sklearn.datasets import fetch_openml\n",
    "%matplotlib inline\n",
    "import matplotlib\n",
    "import matplotlib.pyplot as plt\n",
    "from sklearn.multiclass import OneVsRestClassifier\n",
    "from sklearn.metrics import classification_report\n",
    "from sklearn.metrics import average_precision_score\n",
    "from sklearn import preprocessing\n",
    "from sklearn.model_selection import train_test_split\n",
    "from sklearn.metrics import confusion_matrix\n",
    "from sklearn.metrics import accuracy_score\n",
    "\n",
    "import tensorflow as tf\n",
    "from tensorflow import keras"
   ]
  },
  {
   "cell_type": "code",
   "execution_count": 78,
   "metadata": {},
   "outputs": [],
   "source": [
    "# Loading data from Fashino-MNIST datatset\n",
    "X_train, Y_train = mnist_reader.load_mnist('/Users/sanidhya/Downloads/data_with_notebook/scripts/data/fashion', kind='train')\n",
    "X_test, Y_test = mnist_reader.load_mnist('/Users/sanidhya/Downloads/data_with_notebook/scripts/data/fashion', kind='t10k')\n",
    "X_train_original = X_train\n",
    "X_test_original = X_test\n",
    "Y_train_original = Y_train\n",
    "Y_test_original = Y_test\n",
    "\n",
    "# Preprocessing\n",
    "X = X_train/255\n",
    "X_test = X_test/255"
   ]
  },
  {
   "cell_type": "code",
   "execution_count": null,
   "metadata": {},
   "outputs": [],
   "source": [
    "# Part 1: Neural network with one hidden layer."
   ]
  },
  {
   "cell_type": "code",
   "execution_count": 79,
   "metadata": {},
   "outputs": [],
   "source": [
    "# Reshaping for computation\n",
    "categories = 10\n",
    "samples = Y_train.shape[0]\n",
    "Y = Y_train.reshape(1, samples)\n",
    "\n",
    "Y_new = np.eye(categories)[Y_train.astype('int32')]\n",
    "Y_new = Y_new.T.reshape(categories, samples)"
   ]
  },
  {
   "cell_type": "code",
   "execution_count": 80,
   "metadata": {},
   "outputs": [],
   "source": [
    "# Reshaping for computation\n",
    "m = 60000\n",
    "\n",
    "Y_test = Y_test.reshape(1,Y_test.shape[0])\n",
    "\n",
    "Y_new_test = np.eye(categories)[Y_test.astype('int32')]\n",
    "Y_new_test = Y_new_test.T.reshape(categories, Y_test.shape[1])"
   ]
  },
  {
   "cell_type": "code",
   "execution_count": 81,
   "metadata": {},
   "outputs": [],
   "source": [
    "# Sigmoid function definition\n",
    "def sigmoid(z):\n",
    "    s = 1 / (1 + np.exp(-z))\n",
    "    return s"
   ]
  },
  {
   "cell_type": "code",
   "execution_count": 82,
   "metadata": {},
   "outputs": [],
   "source": [
    "# Function to compute loss\n",
    "def compute_loss(Y, Y_hat):\n",
    "\n",
    "    L_sum = np.sum(np.multiply(Y, np.log(Y_hat)))\n",
    "    m = Y.shape[1]\n",
    "    L = -(1/m) * L_sum\n",
    "\n",
    "    return L"
   ]
  },
  {
   "cell_type": "code",
   "execution_count": 83,
   "metadata": {},
   "outputs": [
    {
     "name": "stdout",
     "output_type": "stream",
     "text": [
      "Epoch 0 cost:  10.198656813384126\n",
      "Epoch 100 cost:  0.8687736662568845\n",
      "Epoch 200 cost:  0.741278879869285\n",
      "Epoch 300 cost:  0.6824247589557478\n",
      "Epoch 400 cost:  0.6427931061218168\n",
      "Epoch 500 cost:  0.6009369190785295\n",
      "Epoch 600 cost:  0.5662089646017558\n",
      "Epoch 700 cost:  0.544175513284782\n",
      "Epoch 800 cost:  0.5206173444879406\n",
      "Epoch 900 cost:  0.50532628685973\n",
      "Final cost: 0.4673554227049462\n"
     ]
    },
    {
     "data": {
      "image/png": "[encoded data removed]",
      "text/plain": [
       "<Figure size 432x288 with 1 Axes>"
      ]
     },
     "metadata": {
      "needs_background": "light"
     },
     "output_type": "display_data"
    }
   ],
   "source": [
    "n_x = X.T.shape[0]\n",
    "n_h = 70\n",
    "learning_rate = 2\n",
    "\n",
    "W1 = np.random.randn(n_h, n_x)\n",
    "b1 = np.zeros((n_h, 1))\n",
    "W2 = np.random.randn(categories, n_h)\n",
    "b2 = np.zeros((categories, 1))\n",
    "\n",
    "X = X.T\n",
    "Y = Y_new\n",
    "\n",
    "losstrack = list()\n",
    "\n",
    "for i in range(1000):\n",
    "\n",
    "    Z1 = np.matmul(W1,X) + b1\n",
    "    A1 = sigmoid(Z1)\n",
    "    Z2 = np.matmul(W2,A1) + b2\n",
    "    A2 = np.exp(Z2) / np.sum(np.exp(Z2), axis=0)\n",
    "\n",
    "    cost = compute_loss(Y, A2)\n",
    "    losstrack.append(np.squeeze(cost))\n",
    "\n",
    "    dZ2 = A2-Y\n",
    "    dW2 = (1./m) * np.matmul(dZ2, A1.T)\n",
    "    db2 = (1./m) * np.sum(dZ2, axis=1, keepdims=True)\n",
    "\n",
    "    dA1 = np.matmul(W2.T, dZ2)\n",
    "    dZ1 = dA1 * sigmoid(Z1) * (1 - sigmoid(Z1))\n",
    "    dW1 = (1./m) * np.matmul(dZ1, X.T)\n",
    "    db1 = (1./m) * np.sum(dZ1, axis=1, keepdims=True)\n",
    "\n",
    "    W2 = W2 - learning_rate * dW2\n",
    "    b2 = b2 - learning_rate * db2\n",
    "    W1 = W1 - learning_rate * dW1\n",
    "    b1 = b1 - learning_rate * db1\n",
    "\n",
    "    if (i % 100 == 0):\n",
    "        print(\"Epoch\", i, \"cost: \", cost)\n",
    "\n",
    "print(\"Final cost:\", cost)\n",
    "plt.plot(losstrack)\n",
    "plt.show()"
   ]
  },
  {
   "cell_type": "code",
   "execution_count": 84,
   "metadata": {},
   "outputs": [
    {
     "name": "stdout",
     "output_type": "stream",
     "text": [
      "[[876   6  27  60   3   0 267   0  10   0]\n",
      " [  3 940   1  21   1   1   0   0   0   0]\n",
      " [ 22   9 769  22 139   0 200   0  18   0]\n",
      " [ 56  34   9 820  35   0  46   0   5   1]\n",
      " [ 11   5 167  62 795   0 199   0   7   0]\n",
      " [  1   0   1   0   3 902   1  38   9  20]\n",
      " [ 15   2  15  11  15   0 250   0   5   0]\n",
      " [  0   0   0   0   0  57   0 903   6  54]\n",
      " [ 16   4  10   4   9   7  37   2 939   0]\n",
      " [  0   0   1   0   0  33   0  57   1 925]]\n",
      "              precision    recall  f1-score   support\n",
      "\n",
      "           0       0.88      0.70      0.78      1249\n",
      "           1       0.94      0.97      0.96       967\n",
      "           2       0.77      0.65      0.71      1179\n",
      "           3       0.82      0.82      0.82      1006\n",
      "           4       0.80      0.64      0.71      1246\n",
      "           5       0.90      0.93      0.91       975\n",
      "           6       0.25      0.80      0.38       313\n",
      "           7       0.90      0.89      0.89      1020\n",
      "           8       0.94      0.91      0.93      1028\n",
      "           9       0.93      0.91      0.92      1017\n",
      "\n",
      "    accuracy                           0.81     10000\n",
      "   macro avg       0.81      0.82      0.80     10000\n",
      "weighted avg       0.85      0.81      0.82     10000\n",
      "\n"
     ]
    }
   ],
   "source": [
    "Z1 = np.matmul(W1, X_test.T) + b1\n",
    "A1 = sigmoid(Z1)\n",
    "Z2 = np.matmul(W2, A1) + b2\n",
    "A2 = np.exp(Z2) / np.sum(np.exp(Z2), axis=0)\n",
    "\n",
    "predictions = np.argmax(A2, axis=0)\n",
    "labels = np.argmax(Y_new_test, axis=0)\n",
    "predictions = np.argmax(A2, axis=0)\n",
    "labels = np.argmax(Y_new_test, axis=0)\n",
    "\n",
    "print(confusion_matrix(predictions, labels))\n",
    "print(classification_report(predictions, labels))"
   ]
  },
  {
   "cell_type": "code",
   "execution_count": 85,
   "metadata": {},
   "outputs": [],
   "source": [
    "#Part 2 : Multi-layer neural network"
   ]
  },
  {
   "cell_type": "code",
   "execution_count": 86,
   "metadata": {},
   "outputs": [],
   "source": [
    "# Reshaping input data for keras\n",
    "w, h = 28, 28\n",
    "X_train_2 = X_train_original.reshape(X_train_original.shape[0], w, h)\n",
    "X_test_2 = X_test_original.reshape(X_test_original.shape[0], w, h)\n",
    "Y_train_2 = Y_train_original\n",
    "Y_test_2 = Y_test_original.reshape(Y_test.shape[1],)"
   ]
  },
  {
   "cell_type": "code",
   "execution_count": 87,
   "metadata": {},
   "outputs": [],
   "source": [
    "# Preprocessing\n",
    "X_train_2 = X_train_2/255\n",
    "X_test_2 = X_test_2/255"
   ]
  },
  {
   "cell_type": "code",
   "execution_count": 88,
   "metadata": {},
   "outputs": [],
   "source": [
    "# Building a model\n",
    "model = keras.Sequential([\n",
    "    keras.layers.Flatten(input_shape=(28, 28)),\n",
    "    keras.layers.Dense(256, activation='sigmoid'),\n",
    "    keras.layers.Dense(150, activation='sigmoid'),\n",
    "    keras.layers.Dense(10, activation='softmax')\n",
    "])"
   ]
  },
  {
   "cell_type": "code",
   "execution_count": 89,
   "metadata": {},
   "outputs": [],
   "source": [
    "# Compiling the model\n",
    "model.compile(optimizer='adam',\n",
    "              loss='sparse_categorical_crossentropy',\n",
    "              metrics=['accuracy'])"
   ]
  },
  {
   "cell_type": "code",
   "execution_count": 90,
   "metadata": {},
   "outputs": [
    {
     "name": "stdout",
     "output_type": "stream",
     "text": [
      "Train on 60000 samples\n",
      "Epoch 1/15\n",
      "60000/60000 [==============================] - 5s 78us/sample - loss: 0.5460 - accuracy: 0.8075\n",
      "Epoch 2/15\n",
      "60000/60000 [==============================] - 4s 62us/sample - loss: 0.3802 - accuracy: 0.8615\n",
      "Epoch 3/15\n",
      "60000/60000 [==============================] - 4s 63us/sample - loss: 0.3397 - accuracy: 0.8767\n",
      "Epoch 4/15\n",
      "60000/60000 [==============================] - 4s 63us/sample - loss: 0.3182 - accuracy: 0.8821\n",
      "Epoch 5/15\n",
      "60000/60000 [==============================] - 4s 63us/sample - loss: 0.2985 - accuracy: 0.8895\n",
      "Epoch 6/15\n",
      "60000/60000 [==============================] - 4s 64us/sample - loss: 0.2806 - accuracy: 0.8953\n",
      "Epoch 7/15\n",
      "60000/60000 [==============================] - 4s 63us/sample - loss: 0.2674 - accuracy: 0.8988\n",
      "Epoch 8/15\n",
      "60000/60000 [==============================] - 4s 62us/sample - loss: 0.2520 - accuracy: 0.9070\n",
      "Epoch 9/15\n",
      "60000/60000 [==============================] - 4s 63us/sample - loss: 0.2443 - accuracy: 0.9083\n",
      "Epoch 10/15\n",
      "60000/60000 [==============================] - 4s 66us/sample - loss: 0.2336 - accuracy: 0.9121\n",
      "Epoch 11/15\n",
      "60000/60000 [==============================] - 4s 70us/sample - loss: 0.2236 - accuracy: 0.9161\n",
      "Epoch 12/15\n",
      "60000/60000 [==============================] - 4s 65us/sample - loss: 0.2146 - accuracy: 0.9186\n",
      "Epoch 13/15\n",
      "60000/60000 [==============================] - 4s 68us/sample - loss: 0.2071 - accuracy: 0.9221\n",
      "Epoch 14/15\n",
      "60000/60000 [==============================] - 4s 70us/sample - loss: 0.1977 - accuracy: 0.9252\n",
      "Epoch 15/15\n",
      "60000/60000 [==============================] - 4s 64us/sample - loss: 0.1916 - accuracy: 0.9277\n"
     ]
    }
   ],
   "source": [
    "# Training the model\n",
    "history = model.fit(X_train_2, Y_train_2.T, epochs=15)"
   ]
  },
  {
   "cell_type": "code",
   "execution_count": 91,
   "metadata": {},
   "outputs": [
    {
     "name": "stdout",
     "output_type": "stream",
     "text": [
      "10000/1 - 0s - loss: 0.2458 - accuracy: 0.8882\n",
      "\n",
      "Test accuracy: [0.3233659418106079, 0.8882]\n"
     ]
    }
   ],
   "source": [
    "# Computing accuracy for the test data\n",
    "test_acc = model.evaluate(X_test_2,  Y_test_2, verbose=2)\n",
    "\n",
    "print('\\nTest accuracy:', test_acc)"
   ]
  },
  {
   "cell_type": "code",
   "execution_count": 92,
   "metadata": {},
   "outputs": [
    {
     "data": {
      "text/plain": [
       "[<matplotlib.lines.Line2D at 0x1a44de1ad0>]"
      ]
     },
     "execution_count": 92,
     "metadata": {},
     "output_type": "execute_result"
    },
    {
     "data": {
      "image/png": "[encoded data removed]",
      "text/plain": [
       "<Figure size 432x288 with 1 Axes>"
      ]
     },
     "metadata": {
      "needs_background": "light"
     },
     "output_type": "display_data"
    }
   ],
   "source": [
    "plt.plot(history.history['loss'])"
   ]
  },
  {
   "cell_type": "code",
   "execution_count": 93,
   "metadata": {},
   "outputs": [],
   "source": [
    "y_pred = model.predict_classes(X_test_2)\n",
    "con_mat = tf.math.confusion_matrix(labels = Y_test_2, predictions = y_pred).numpy()"
   ]
  },
  {
   "cell_type": "code",
   "execution_count": 94,
   "metadata": {},
   "outputs": [
    {
     "name": "stdout",
     "output_type": "stream",
     "text": [
      "[[868   1  11  27   7   0  79   0   7   0]\n",
      " [  3 976   0  15   4   0   2   0   0   0]\n",
      " [ 21   0 808  13 105   0  53   0   0   0]\n",
      " [ 17   5  15 898  42   0  18   0   5   0]\n",
      " [  0   0  90  21 866   0  21   0   2   0]\n",
      " [  0   0   0   1   0 967   0  16   2  14]\n",
      " [142   0  75  31 107   0 635   0  10   0]\n",
      " [  0   0   0   0   0  24   0 961   0  15]\n",
      " [  5   0   4   2   2   4   2   4 977   0]\n",
      " [  0   0   0   0   0   6   1  67   0 926]]\n"
     ]
    }
   ],
   "source": [
    "print(con_mat)"
   ]
  },
  {
   "cell_type": "code",
   "execution_count": 95,
   "metadata": {},
   "outputs": [
    {
     "name": "stdout",
     "output_type": "stream",
     "text": [
      "0.8882\n"
     ]
    }
   ],
   "source": [
    "accuracy_2 = accuracy_score(Y_test_2, y_pred)\n",
    "print(accuracy_2)"
   ]
  },
  {
   "cell_type": "code",
   "execution_count": 96,
   "metadata": {},
   "outputs": [],
   "source": [
    "#Part 3 : Convolutional neural network"
   ]
  },
  {
   "cell_type": "code",
   "execution_count": 97,
   "metadata": {},
   "outputs": [],
   "source": [
    "# Preprocessing\n",
    "X_train_3 = X_train_original.astype('float32') / 255\n",
    "X_test_3 = X_test_original.astype('float32') / 255\n",
    "Y_train_3 = Y_train_original\n",
    "Y_test_3 = Y_test_original"
   ]
  },
  {
   "cell_type": "code",
   "execution_count": 98,
   "metadata": {},
   "outputs": [],
   "source": [
    "# Data partitioning into training  and validation data\n",
    "(X_train_3, X_valid_3) = X_train_3[5000:], X_train_3[:5000] \n",
    "(Y_train_3, Y_valid_3) = Y_train_3[5000:], Y_train_3[:5000]\n",
    "\n",
    "# Reshaping input data for keras\n",
    "w, h = 28, 28\n",
    "X_train_3 = X_train_3.reshape(X_train_3.shape[0], w, h, 1)\n",
    "X_valid_3 = X_valid_3.reshape(X_valid_3.shape[0], w, h, 1)\n",
    "X_test_3 = X_test_3.reshape(X_test_3.shape[0], w, h, 1)\n",
    "\n",
    "# One-hot encoding\n",
    "Y_train_3 = tf.keras.utils.to_categorical(Y_train_3, 10)\n",
    "Y_valid_3 = tf.keras.utils.to_categorical(Y_valid_3, 10)\n",
    "Y_test_3 = tf.keras.utils.to_categorical(Y_test_3, 10)"
   ]
  },
  {
   "cell_type": "code",
   "execution_count": 99,
   "metadata": {},
   "outputs": [
    {
     "name": "stdout",
     "output_type": "stream",
     "text": [
      "Model: \"sequential_5\"\n",
      "_________________________________________________________________\n",
      "Layer (type)                 Output Shape              Param #   \n",
      "=================================================================\n",
      "conv2d_4 (Conv2D)            (None, 28, 28, 64)        320       \n",
      "_________________________________________________________________\n",
      "max_pooling2d_4 (MaxPooling2 (None, 14, 14, 64)        0         \n",
      "_________________________________________________________________\n",
      "dropout_6 (Dropout)          (None, 14, 14, 64)        0         \n",
      "_________________________________________________________________\n",
      "conv2d_5 (Conv2D)            (None, 14, 14, 32)        8224      \n",
      "_________________________________________________________________\n",
      "max_pooling2d_5 (MaxPooling2 (None, 7, 7, 32)          0         \n",
      "_________________________________________________________________\n",
      "dropout_7 (Dropout)          (None, 7, 7, 32)          0         \n",
      "_________________________________________________________________\n",
      "flatten_5 (Flatten)          (None, 1568)              0         \n",
      "_________________________________________________________________\n",
      "dense_12 (Dense)             (None, 256)               401664    \n",
      "_________________________________________________________________\n",
      "dropout_8 (Dropout)          (None, 256)               0         \n",
      "_________________________________________________________________\n",
      "dense_13 (Dense)             (None, 10)                2570      \n",
      "=================================================================\n",
      "Total params: 412,778\n",
      "Trainable params: 412,778\n",
      "Non-trainable params: 0\n",
      "_________________________________________________________________\n"
     ]
    }
   ],
   "source": [
    "# Building the model\n",
    "model = tf.keras.Sequential()\n",
    "\n",
    "model.add(tf.keras.layers.Conv2D(filters=64, kernel_size=2, padding='same', activation='sigmoid', input_shape=(28,28,1))) \n",
    "model.add(tf.keras.layers.MaxPooling2D(pool_size=2))\n",
    "model.add(tf.keras.layers.Dropout(0.3))\n",
    "\n",
    "model.add(tf.keras.layers.Conv2D(filters=32, kernel_size=2, padding='same', activation='sigmoid'))\n",
    "model.add(tf.keras.layers.MaxPooling2D(pool_size=2))\n",
    "model.add(tf.keras.layers.Dropout(0.3))\n",
    "\n",
    "model.add(tf.keras.layers.Flatten())\n",
    "model.add(tf.keras.layers.Dense(256, activation='sigmoid'))\n",
    "model.add(tf.keras.layers.Dropout(0.5))\n",
    "model.add(tf.keras.layers.Dense(10, activation='softmax'))\n",
    "\n",
    "model.summary()"
   ]
  },
  {
   "cell_type": "code",
   "execution_count": 100,
   "metadata": {},
   "outputs": [],
   "source": [
    "# Compiling the model\n",
    "model.compile(loss='categorical_crossentropy',\n",
    "             optimizer='adam',\n",
    "             metrics=['accuracy'])"
   ]
  },
  {
   "cell_type": "code",
   "execution_count": 101,
   "metadata": {},
   "outputs": [
    {
     "name": "stdout",
     "output_type": "stream",
     "text": [
      "Train on 55000 samples, validate on 5000 samples\n",
      "Epoch 1/10\n",
      "55000/55000 [==============================] - 32s 591us/sample - loss: 2.3118 - accuracy: 0.1017 - val_loss: 2.3024 - val_accuracy: 0.1026\n",
      "Epoch 2/10\n",
      "55000/55000 [==============================] - 32s 582us/sample - loss: 1.0508 - accuracy: 0.5999 - val_loss: 0.5369 - val_accuracy: 0.7970\n",
      "Epoch 3/10\n",
      "55000/55000 [==============================] - 31s 570us/sample - loss: 0.5954 - accuracy: 0.7755 - val_loss: 0.4728 - val_accuracy: 0.8258\n",
      "Epoch 4/10\n",
      "55000/55000 [==============================] - 32s 573us/sample - loss: 0.5463 - accuracy: 0.7930 - val_loss: 0.4391 - val_accuracy: 0.8404\n",
      "Epoch 5/10\n",
      "55000/55000 [==============================] - 32s 580us/sample - loss: 0.5152 - accuracy: 0.8069 - val_loss: 0.4203 - val_accuracy: 0.8462\n",
      "Epoch 6/10\n",
      "55000/55000 [==============================] - 31s 571us/sample - loss: 0.4938 - accuracy: 0.8140 - val_loss: 0.4002 - val_accuracy: 0.8572\n",
      "Epoch 7/10\n",
      "55000/55000 [==============================] - 31s 571us/sample - loss: 0.4750 - accuracy: 0.8231 - val_loss: 0.3845 - val_accuracy: 0.8584\n",
      "Epoch 8/10\n",
      "55000/55000 [==============================] - 31s 569us/sample - loss: 0.4595 - accuracy: 0.8286 - val_loss: 0.3688 - val_accuracy: 0.8668\n",
      "Epoch 9/10\n",
      "55000/55000 [==============================] - 31s 570us/sample - loss: 0.4438 - accuracy: 0.8331 - val_loss: 0.3610 - val_accuracy: 0.8696\n",
      "Epoch 10/10\n",
      "55000/55000 [==============================] - 32s 585us/sample - loss: 0.4323 - accuracy: 0.8376 - val_loss: 0.3507 - val_accuracy: 0.8724\n"
     ]
    }
   ],
   "source": [
    "# Training the model\n",
    "history_cnn = model.fit(X_train_3,\n",
    "         Y_train_3,\n",
    "         batch_size=70,\n",
    "         epochs=10,\n",
    "         validation_data=(X_valid_3, Y_valid_3))"
   ]
  },
  {
   "cell_type": "code",
   "execution_count": 102,
   "metadata": {},
   "outputs": [
    {
     "name": "stdout",
     "output_type": "stream",
     "text": [
      "10000/1 - 2s - loss: 0.3051 - accuracy: 0.8544\n",
      "\n",
      "Test accuracy: [0.38709198014736174, 0.8544]\n"
     ]
    }
   ],
   "source": [
    "# Computing accuracy on the test data.\n",
    "test_acc = model.evaluate(X_test_3,  Y_test_3, verbose=2)\n",
    "print('\\nTest accuracy:', test_acc)"
   ]
  },
  {
   "cell_type": "code",
   "execution_count": 103,
   "metadata": {},
   "outputs": [
    {
     "data": {
      "text/plain": [
       "[<matplotlib.lines.Line2D at 0x1a3e7a3150>]"
      ]
     },
     "execution_count": 103,
     "metadata": {},
     "output_type": "execute_result"
    },
    {
     "data": {
      "image/png": "[encoded data removed]",
      "text/plain": [
       "<Figure size 432x288 with 1 Axes>"
      ]
     },
     "metadata": {
      "needs_background": "light"
     },
     "output_type": "display_data"
    }
   ],
   "source": [
    "plt.plot(history_cnn.history['loss'])"
   ]
  },
  {
   "cell_type": "code",
   "execution_count": 104,
   "metadata": {},
   "outputs": [],
   "source": [
    "y_pred = model.predict_classes(X_test_3)\n",
    "con_mat = tf.math.confusion_matrix(labels = Y_test_original, predictions = y_pred).numpy()"
   ]
  },
  {
   "cell_type": "code",
   "execution_count": 105,
   "metadata": {},
   "outputs": [
    {
     "name": "stdout",
     "output_type": "stream",
     "text": [
      "[[829   5  16  51   4   1  79   0  15   0]\n",
      " [  2 961   2  25   5   0   4   0   1   0]\n",
      " [ 16   1 730  11 166   0  66   0  10   0]\n",
      " [ 28  20  17 880  29   0  21   0   5   0]\n",
      " [  1   2  95  51 776   0  72   0   3   0]\n",
      " [  0   0   0   1   0 950   0  34   1  14]\n",
      " [173   1 107  42  95   0 553   0  29   0]\n",
      " [  0   0   0   0   0  20   0 934   0  46]\n",
      " [  2   2   5   5   4   1   1   4 975   1]\n",
      " [  0   0   0   0   0   5   0  38   1 956]]\n"
     ]
    }
   ],
   "source": [
    "print(con_mat)"
   ]
  },
  {
   "cell_type": "code",
   "execution_count": 106,
   "metadata": {},
   "outputs": [
    {
     "name": "stdout",
     "output_type": "stream",
     "text": [
      "0.8544\n"
     ]
    }
   ],
   "source": [
    "accuracy = accuracy_score(Y_test_original, y_pred)\n",
    "print(accuracy)"
   ]
  },
  {
   "cell_type": "code",
   "execution_count": null,
   "metadata": {},
   "outputs": [],
   "source": []
  }
 ],
 "metadata": {
  "kernelspec": {
   "display_name": "Python 3",
   "language": "python",
   "name": "python3"
  },
  "language_info": {
   "codemirror_mode": {
    "name": "ipython",
    "version": 3
   },
   "file_extension": ".py",
   "mimetype": "text/x-python",
   "name": "python",
   "nbconvert_exporter": "python",
   "pygments_lexer": "ipython3",
   "version": "3.7.4"
  }
 },
 "nbformat": 4,
 "nbformat_minor": 2
}
